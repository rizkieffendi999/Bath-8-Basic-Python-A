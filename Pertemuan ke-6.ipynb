{
 "cells": [
  {
   "cell_type": "markdown",
   "metadata": {},
   "source": [
    "# Class"
   ]
  },
  {
   "cell_type": "code",
   "execution_count": 19,
   "metadata": {},
   "outputs": [
    {
     "name": "stdout",
     "output_type": "stream",
     "text": [
      "5\n",
      "5\n"
     ]
    }
   ],
   "source": [
    "class MyClass:\n",
    "    x=5\n",
    "\n",
    "p1=MyClass()\n",
    "p2=MyClass()\n",
    "\n",
    "print(p1.x)\n",
    "print(p2.x)"
   ]
  },
  {
   "cell_type": "code",
   "execution_count": 20,
   "metadata": {},
   "outputs": [],
   "source": [
    "class Person:\n",
    "    def __init__(self,name,age):\n",
    "        self.name =name\n",
    "        self.age =age\n",
    "    \n",
    "    def greeting(self):\n",
    "        print('Hello my name is',self.name)"
   ]
  },
  {
   "cell_type": "code",
   "execution_count": 23,
   "metadata": {},
   "outputs": [
    {
     "name": "stdout",
     "output_type": "stream",
     "text": [
      "Farhan\n",
      "21\n",
      "Hello my name is Farhan\n"
     ]
    }
   ],
   "source": [
    "person1 =Person('Farhan',21)\n",
    "print(person1.name)\n",
    "print(person1.age)\n",
    "\n",
    "person1.greeting()"
   ]
  },
  {
   "cell_type": "code",
   "execution_count": 24,
   "metadata": {},
   "outputs": [
    {
     "name": "stdout",
     "output_type": "stream",
     "text": [
      "Lala\n",
      "17\n",
      "Hello my name is Lala\n"
     ]
    }
   ],
   "source": [
    "person1 =Person('Lala',17)\n",
    "print(person1.name)\n",
    "print(person1.age)\n",
    "\n",
    "person1.greeting()"
   ]
  },
  {
   "cell_type": "markdown",
   "metadata": {},
   "source": [
    "# Soal 1"
   ]
  },
  {
   "cell_type": "markdown",
   "metadata": {},
   "source": [
    "Buat program interaktif yang akan menampilkan angka berurutan secara mundur dari nilai x dan dan dimaasukkan ke dalam output. \n",
    "\n",
    "Contoh output:\n",
    "\n",
    "Masukkan batas atas: 20\n",
    "\n",
    "Masukkan batas bawah: 15\n",
    "\n",
    "19\n",
    "\n",
    "18\n",
    "\n",
    "17\n",
    "\n",
    "16"
   ]
  },
  {
   "cell_type": "code",
   "execution_count": 26,
   "metadata": {},
   "outputs": [
    {
     "name": "stdin",
     "output_type": "stream",
     "text": [
      "Masukkan batas atas: 20\n",
      "Masukkan batas bawah: 15\n"
     ]
    },
    {
     "name": "stdout",
     "output_type": "stream",
     "text": [
      "19\n",
      "18\n",
      "17\n",
      "16\n"
     ]
    }
   ],
   "source": [
    "n = int(input('Masukkan batas atas:'))\n",
    "m = int(input('Masukkan batas bawah:'))\n",
    "count = 0\n",
    "while count <= n-m+1:\n",
    "    n= n-1\n",
    "    print(n)\n",
    "    count = count+1"
   ]
  },
  {
   "cell_type": "markdown",
   "metadata": {},
   "source": [
    "# Soal 2"
   ]
  },
  {
   "cell_type": "markdown",
   "metadata": {},
   "source": [
    "Buatlah program interaktif yang akan melakukan penghitungan hasil investasi dengan inputan berupa nilai awal investasi, lama investasi saham satuan tahun, dan keuntungan per tahun. Program akan menampilkan simulasi penghasilan per tahun.\n",
    "\n",
    "Penghitungan bunga dilakukan menggunakan rumus bunga majemuk (bunga didapatkan dari pokok sebelumnya)\n",
    "\n",
    "Contoh output:\n",
    "\n",
    "Masukkan nilai awal investasi: 1000000\n",
    "\n",
    "Masukkan lama investasi (tahun): 5\n",
    "\n",
    "Masukkan suku bunga (%): 6\n",
    "\n",
    "Rincian investasi anda:\n",
    "\n",
    "Tahun ke-1, jumlah investasi anda: 1060000.0\n",
    "\n",
    "Tahun ke-2, jumlah investasi anda: 1123600.0\n",
    "\n",
    "Tahun ke-3, jumlah investasi anda: 1191016.0\n",
    "\n",
    "Tahun ke-4, jumlah investasi anda: 1262476.96\n",
    "\n",
    "Tahun ke-5, jumlah investasi anda: 1338225.58"
   ]
  },
  {
   "cell_type": "code",
   "execution_count": 27,
   "metadata": {},
   "outputs": [
    {
     "name": "stdin",
     "output_type": "stream",
     "text": [
      "Masukkan nilai awal investasi: 1000000\n",
      "Masukkan lama investasi (tahun): 5\n",
      "Masukkan suku bunga (%): 6\n"
     ]
    },
    {
     "name": "stdout",
     "output_type": "stream",
     "text": [
      "Rincian investasi anda:\n",
      "Tahun ke-1, jumlah investasi anda: 1060000.0\n",
      "Tahun ke-2, jumlah investasi anda: 1123600.0\n",
      "Tahun ke-3, jumlah investasi anda: 1191016.0\n",
      "Tahun ke-4, jumlah investasi anda: 1262476.96\n",
      "Tahun ke-5, jumlah investasi anda: 1338225.58\n"
     ]
    }
   ],
   "source": [
    "awal = int(input('Masukkan nilai awal investasi:'))\n",
    "periode = int(input('Masukkan lama investasi (tahun):'))\n",
    "bunga = int(input('Masukkan suku bunga (%):'))\n",
    "x = 1\n",
    "print('Rincian investasi anda:')\n",
    "while x <= periode:\n",
    "    print('Tahun ke-{}, jumlah investasi anda: {}'.format(x, round(awal*(1+(bunga/100)),2)))\n",
    "    x = x+1\n",
    "    awal = awal*(1+(bunga/100))"
   ]
  },
  {
   "cell_type": "markdown",
   "metadata": {},
   "source": [
    "# Soal 3"
   ]
  },
  {
   "cell_type": "markdown",
   "metadata": {},
   "source": [
    "Buatlah fungsi yang akan menghitung usia seseorang berdasarkan tanggal lahir yang diinputkan (sebagai cutoff, tanggal yang digunakan adalah tanggal dimana program dijalankan)\n",
    "\n",
    "Contoh output:\n",
    "\n",
    "Hai, aku asisten virtual pribadimu\n",
    "\n",
    "Apakah kamu mau menghitung usiamu hari ini?\n",
    "\n",
    "1:Ya\n",
    "\n",
    "2:Tidak\n",
    "\n",
    "Silahkan pilih angka saja ya: 1\n",
    "\n",
    "Masukkan tanggal lahir kamu (DD-MM-YYY): 08-09-1996\n",
    "\n",
    "==================================================\n",
    "\n",
    "Usia kamu per hari ini adalah: 24.55 tahun\n",
    "\n",
    "==================================================\n",
    "\n",
    "Apakah kamu mau menghitung usiamu hari ini?\n",
    "\n",
    "1:Ya\n",
    "\n",
    "2:Tidak\n",
    "\n",
    "Silahkan pilih angka saja ya: 2\n",
    "\n",
    "==================================================\n",
    "\n",
    "Oke, terima kasih sudah menggunakan program ini\n",
    "\n",
    "Sampai jumpa lagi\n",
    "\n",
    "=================================================="
   ]
  },
  {
   "cell_type": "code",
   "execution_count": 30,
   "metadata": {},
   "outputs": [
    {
     "name": "stdout",
     "output_type": "stream",
     "text": [
      "Hai, aku asisten virtual pribadimu\n"
     ]
    },
    {
     "name": "stdin",
     "output_type": "stream",
     "text": [
      "Apakah kamu mau menghitung usiamu hari ini?\n",
      "1:Ya\n",
      "2:Tidak\n",
      "Silahkan pilih angka saja ya: 1\n",
      "Masukkan tanggal lahir kamu (DD-MM-YYY): 17-08-1945\n"
     ]
    },
    {
     "name": "stdout",
     "output_type": "stream",
     "text": [
      "==================================================\n",
      "Usia kamu per hari ini adalah:76.12 tahun\n",
      "==================================================\n"
     ]
    },
    {
     "name": "stdin",
     "output_type": "stream",
     "text": [
      "Apakah kamu mau menghitung usiamu hari ini?\n",
      "1:Ya\n",
      "2:Tidak\n",
      "Silahkan pilih angka saja ya: 5\n"
     ]
    },
    {
     "name": "stdout",
     "output_type": "stream",
     "text": [
      "==================================================\n",
      "Maaf menu yang kamu pilih tidak ada\n",
      "Silahkan pilih menu lagi ya:\n",
      "==================================================\n"
     ]
    },
    {
     "name": "stdin",
     "output_type": "stream",
     "text": [
      "Apakah kamu mau menghitung usiamu hari ini?\n",
      "1:Ya\n",
      "2:Tidak\n",
      "Silahkan pilih angka saja ya: 2\n"
     ]
    },
    {
     "name": "stdout",
     "output_type": "stream",
     "text": [
      "==================================================\n",
      "Oke, terima kasih sudah menggunakan program ini\n",
      "Sampai jumpa lagi\n",
      "==================================================\n"
     ]
    }
   ],
   "source": [
    "import datetime as dt\n",
    "import math\n",
    "\n",
    "def hitung_umur():\n",
    "    y = input('Masukkan tanggal lahir kamu (DD-MM-YYY):')\n",
    "    tanggal = dt.datetime.strptime(y,'%d-%m-%Y')\n",
    "    sekarang = dt.datetime.now()\n",
    "    umur = sekarang - tanggal\n",
    "    umur_hari_ini = math.floor((umur.days)/365)\n",
    "    umur_hari_ini2 = round(((umur.days)%365)/365,2)\n",
    "    umur_tampil = umur_hari_ini + umur_hari_ini2\n",
    "    print('==================================================')\n",
    "    print('Usia kamu per hari ini adalah:{} tahun'.format(umur_tampil))\n",
    "    print('==================================================')\n",
    "    \n",
    "print('Hai, aku asisten virtual pribadimu')\n",
    "\n",
    "while True:\n",
    "    menu = input('Apakah kamu mau menghitung usiamu hari ini?\\n1:Ya\\n2:Tidak\\nSilahkan pilih angka saja ya:')\n",
    "    \n",
    "    if menu == '1':\n",
    "        hitung_umur()\n",
    "    elif menu == '2':\n",
    "        print('==================================================')\n",
    "        print('Oke, terima kasih sudah menggunakan program ini\\nSampai jumpa lagi')\n",
    "        print('==================================================')\n",
    "        break\n",
    "    else:\n",
    "        print('==================================================')\n",
    "        print('Maaf menu yang kamu pilih tidak ada\\nSilahkan pilih menu lagi ya:')\n",
    "        print('==================================================')\n",
    "    "
   ]
  },
  {
   "cell_type": "code",
   "execution_count": null,
   "metadata": {},
   "outputs": [],
   "source": []
  }
 ],
 "metadata": {
  "kernelspec": {
   "display_name": "Python 3",
   "language": "python",
   "name": "python3"
  },
  "language_info": {
   "codemirror_mode": {
    "name": "ipython",
    "version": 3
   },
   "file_extension": ".py",
   "mimetype": "text/x-python",
   "name": "python",
   "nbconvert_exporter": "python",
   "pygments_lexer": "ipython3",
   "version": "3.8.3"
  }
 },
 "nbformat": 4,
 "nbformat_minor": 4
}
