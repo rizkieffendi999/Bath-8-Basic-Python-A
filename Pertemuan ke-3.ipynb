{
 "cells": [
  {
   "cell_type": "markdown",
   "metadata": {},
   "source": [
    "# Pembahasan assignment #1"
   ]
  },
  {
   "cell_type": "code",
   "execution_count": 1,
   "metadata": {},
   "outputs": [
    {
     "name": "stdin",
     "output_type": "stream",
     "text": [
      "Nama:  Rizki\n",
      "Umur:  17\n",
      "Tinggi:  180\n"
     ]
    },
    {
     "name": "stdout",
     "output_type": "stream",
     "text": [
      "Nama saya Rizki, umur saya 17 tahun dan tinggi saya 180.0 cm\n"
     ]
    }
   ],
   "source": [
    "# Soal 1\n",
    "nama = input(\"Nama: \")\n",
    "umur = int(input(\"Umur: \"))\n",
    "tinggi = float(input(\"Tinggi: \"))\n",
    "\n",
    "text = \"Nama saya {}, umur saya {} tahun dan tinggi saya {} cm\".format(nama, umur, tinggi)\n",
    "\n",
    "print(text)"
   ]
  },
  {
   "cell_type": "code",
   "execution_count": 2,
   "metadata": {},
   "outputs": [
    {
     "name": "stdin",
     "output_type": "stream",
     "text": [
      "Masukkan jari-jari lingkaran:  10\n"
     ]
    },
    {
     "name": "stdout",
     "output_type": "stream",
     "text": [
      "Luas Lingkaran dengan jari-jari 10.0 cm adalah 314.29 cm²\n",
      "Luas Lingkaran dengan jari-jari 10.0 cm adalah 314.29 cm²\n"
     ]
    }
   ],
   "source": [
    "# Soal 2\n",
    "\n",
    "r = float(input(\"Masukkan jari-jari lingkaran: \"))\n",
    "pi = 22/7\n",
    "\n",
    "luas = pi * r * r\n",
    "luas2 = round(luas,2)\n",
    "\n",
    "print(\"Luas Lingkaran dengan jari-jari\",r,\"cm adalah\", luas2,\"cm\\u00b2\")\n",
    "print(\"Luas Lingkaran dengan jari-jari\",r,\"cm adalah {:.2f}\".format(luas),\"cm\\u00b2\")"
   ]
  },
  {
   "cell_type": "code",
   "execution_count": 3,
   "metadata": {},
   "outputs": [
    {
     "name": "stdin",
     "output_type": "stream",
     "text": [
      "Nilai minimun:  10\n",
      "Nilai teori:  90\n",
      "Nilai prakrek:  5\n"
     ]
    },
    {
     "name": "stdout",
     "output_type": "stream",
     "text": [
      "Anda mengulang ujian praktek\n"
     ]
    }
   ],
   "source": [
    "# Soal 3\n",
    "\n",
    "nilai_minimum = float(input(\"Nilai minimun: \"))\n",
    "\n",
    "nilai_teori = float(input(\"Nilai teori: \"))\n",
    "nilai_praktek = float(input(\"Nilai prakrek: \"))\n",
    "\n",
    "if nilai_teori >= nilai_minimum and nilai_praktek >= nilai_minimum:\n",
    "    print(\"Lulus\")\n",
    "elif nilai_teori >= nilai_minimum and nilai_praktek < nilai_minimum:\n",
    "    print(\"Anda mengulang ujian praktek\")\n",
    "elif nilai_teori < nilai_minimum and nilai_praktek >= nilai_minimum:\n",
    "    print(\"Anda mengulang ujian teori\")\n",
    "else:\n",
    "    print(\"Anda mengulang ujian teori dan praktek\")"
   ]
  }
 ],
 "metadata": {
  "kernelspec": {
   "display_name": "Python 3",
   "language": "python",
   "name": "python3"
  },
  "language_info": {
   "codemirror_mode": {
    "name": "ipython",
    "version": 3
   },
   "file_extension": ".py",
   "mimetype": "text/x-python",
   "name": "python",
   "nbconvert_exporter": "python",
   "pygments_lexer": "ipython3",
   "version": "3.8.3"
  }
 },
 "nbformat": 4,
 "nbformat_minor": 4
}
