{
 "cells": [
  {
   "cell_type": "markdown",
   "source": [
    "# Dictionary"
   ],
   "metadata": {}
  },
  {
   "cell_type": "code",
   "execution_count": 2,
   "source": [
    "pelanggan = { \r\n",
    "    \"Nama\":\"Farhan\",\r\n",
    "    \"Umur\": 17\r\n",
    "}\r\n",
    "\r\n",
    "print(\"Nama:{}\".format(pelanggan[\"Nama\"]))\r\n",
    "print(\"Umur:{}\".format(pelanggan[\"Umur\"]))"
   ],
   "outputs": [
    {
     "output_type": "stream",
     "name": "stdout",
     "text": [
      "Nama:Farhan\n",
      "Umur:17\n"
     ]
    }
   ],
   "metadata": {}
  },
  {
   "cell_type": "code",
   "execution_count": 3,
   "source": [
    "print(pelanggan[\"Nama\"])"
   ],
   "outputs": [
    {
     "output_type": "stream",
     "name": "stdout",
     "text": [
      "Farhan\n"
     ]
    }
   ],
   "metadata": {}
  },
  {
   "cell_type": "code",
   "execution_count": 4,
   "source": [
    "pelanggan[\"Nama\"]"
   ],
   "outputs": [
    {
     "output_type": "execute_result",
     "data": {
      "text/plain": [
       "'Farhan'"
      ]
     },
     "metadata": {},
     "execution_count": 4
    }
   ],
   "metadata": {}
  },
  {
   "cell_type": "code",
   "execution_count": 5,
   "source": [
    "pelanggan2 = {\"Nama\":\"Farhan\",\"Umur\": 17}\r\n",
    "\r\n",
    "print(\"Nama:{}\".format(pelanggan2[\"Nama\"]))\r\n",
    "print(\"Umur:{}\".format(pelanggan2[\"Umur\"]))"
   ],
   "outputs": [
    {
     "output_type": "stream",
     "name": "stdout",
     "text": [
      "Nama:Farhan\n",
      "Umur:17\n"
     ]
    }
   ],
   "metadata": {}
  },
  {
   "cell_type": "code",
   "execution_count": 6,
   "source": [
    "print(\"Nama:{}\".format(pelanggan2))"
   ],
   "outputs": [
    {
     "output_type": "stream",
     "name": "stdout",
     "text": [
      "Nama:{'Nama': 'Farhan', 'Umur': 17}\n"
     ]
    }
   ],
   "metadata": {}
  },
  {
   "cell_type": "code",
   "execution_count": 7,
   "source": [
    "print(pelanggan)"
   ],
   "outputs": [
    {
     "output_type": "stream",
     "name": "stdout",
     "text": [
      "{'Nama': 'Farhan', 'Umur': 17}\n"
     ]
    }
   ],
   "metadata": {}
  },
  {
   "cell_type": "code",
   "execution_count": 8,
   "source": [
    "# mengganti nilai di dalam dictionary"
   ],
   "outputs": [],
   "metadata": {}
  },
  {
   "cell_type": "code",
   "execution_count": 11,
   "source": [
    "pelanggan2[\"Umur\"] = 21\r\n",
    "print(pelanggan2)"
   ],
   "outputs": [
    {
     "output_type": "stream",
     "name": "stdout",
     "text": [
      "{'Nama': 'Farhan', 'Umur': 21}\n"
     ]
    }
   ],
   "metadata": {}
  },
  {
   "cell_type": "code",
   "execution_count": 13,
   "source": [
    "# menghapus nilai di dalam dictinary"
   ],
   "outputs": [],
   "metadata": {}
  },
  {
   "cell_type": "code",
   "execution_count": 14,
   "source": [
    "# del"
   ],
   "outputs": [],
   "metadata": {}
  },
  {
   "cell_type": "code",
   "execution_count": 15,
   "source": [
    "print(pelanggan)"
   ],
   "outputs": [
    {
     "output_type": "stream",
     "name": "stdout",
     "text": [
      "{'Nama': 'Farhan', 'Umur': 21, 'umur': 21}\n"
     ]
    }
   ],
   "metadata": {}
  },
  {
   "cell_type": "code",
   "execution_count": 16,
   "source": [
    "del pelanggan[\"umur\"]\r\n",
    "print(pelanggan)"
   ],
   "outputs": [
    {
     "output_type": "stream",
     "name": "stdout",
     "text": [
      "{'Nama': 'Farhan', 'Umur': 21}\n"
     ]
    }
   ],
   "metadata": {}
  },
  {
   "cell_type": "code",
   "execution_count": 17,
   "source": [
    "#clear"
   ],
   "outputs": [],
   "metadata": {}
  },
  {
   "cell_type": "code",
   "execution_count": 18,
   "source": [
    "pelanggan.clear()"
   ],
   "outputs": [],
   "metadata": {}
  },
  {
   "cell_type": "code",
   "execution_count": 19,
   "source": [
    "print(pelanggan)"
   ],
   "outputs": [
    {
     "output_type": "stream",
     "name": "stdout",
     "text": [
      "{}\n"
     ]
    }
   ],
   "metadata": {}
  },
  {
   "cell_type": "code",
   "execution_count": 20,
   "source": [
    "# menghapus semua dictionary termasuk nama dictionary nya"
   ],
   "outputs": [],
   "metadata": {}
  },
  {
   "cell_type": "code",
   "execution_count": 21,
   "source": [
    "del pelanggan"
   ],
   "outputs": [],
   "metadata": {}
  },
  {
   "cell_type": "code",
   "execution_count": 22,
   "source": [
    "print(pelanggan)"
   ],
   "outputs": [
    {
     "output_type": "error",
     "ename": "NameError",
     "evalue": "name 'pelanggan' is not defined",
     "traceback": [
      "\u001b[1;31m---------------------------------------------------------------------------\u001b[0m",
      "\u001b[1;31mNameError\u001b[0m                                 Traceback (most recent call last)",
      "\u001b[1;32m~\\AppData\\Local\\Temp/ipykernel_29336/2464905184.py\u001b[0m in \u001b[0;36m<module>\u001b[1;34m\u001b[0m\n\u001b[1;32m----> 1\u001b[1;33m \u001b[0mprint\u001b[0m\u001b[1;33m(\u001b[0m\u001b[0mpelanggan\u001b[0m\u001b[1;33m)\u001b[0m\u001b[1;33m\u001b[0m\u001b[1;33m\u001b[0m\u001b[0m\n\u001b[0m",
      "\u001b[1;31mNameError\u001b[0m: name 'pelanggan' is not defined"
     ]
    }
   ],
   "metadata": {}
  },
  {
   "cell_type": "code",
   "execution_count": 23,
   "source": [
    "# mengambil beberapa value di dalam key pada dictionary"
   ],
   "outputs": [],
   "metadata": {}
  },
  {
   "cell_type": "code",
   "execution_count": 24,
   "source": [
    "data = {\"Nama\": \"Zara\",\"Umur\":25,\"Kelas\":\"Statistik\"}\r\n",
    "print(data)\r\n",
    "print(data[\"Nama\"])\r\n",
    "print(data[\"Kelas\"])"
   ],
   "outputs": [
    {
     "output_type": "stream",
     "name": "stdout",
     "text": [
      "{'Nama': 'Zara', 'Umur': 25, 'Kelas': 'Statistik'}\n",
      "Zara\n",
      "Statistik\n"
     ]
    }
   ],
   "metadata": {}
  },
  {
   "cell_type": "code",
   "execution_count": 25,
   "source": [
    "print(\"Nama:\", data[\"Nama\"])\r\n",
    "print(\"Kelas:\", data[\"Kelas\"])"
   ],
   "outputs": [
    {
     "output_type": "stream",
     "name": "stdout",
     "text": [
      "Nama: Zara\n",
      "Kelas: Statistik\n"
     ]
    }
   ],
   "metadata": {}
  },
  {
   "cell_type": "code",
   "execution_count": 26,
   "source": [
    "# Loop dictionary"
   ],
   "outputs": [],
   "metadata": {}
  },
  {
   "cell_type": "code",
   "execution_count": 28,
   "source": [
    "for x in pelanggan2:\r\n",
    "    print(x)\r\n",
    "    #print(pelanggan2[x])"
   ],
   "outputs": [
    {
     "output_type": "stream",
     "name": "stdout",
     "text": [
      "Nama\n",
      "Umur\n"
     ]
    }
   ],
   "metadata": {}
  },
  {
   "cell_type": "code",
   "execution_count": 29,
   "source": [
    "for x in pelanggan2:\r\n",
    "    #print(x)\r\n",
    "    print(pelanggan2[x])"
   ],
   "outputs": [
    {
     "output_type": "stream",
     "name": "stdout",
     "text": [
      "Farhan\n",
      "21\n"
     ]
    }
   ],
   "metadata": {}
  },
  {
   "cell_type": "markdown",
   "source": [
    "# Function"
   ],
   "metadata": {}
  },
  {
   "cell_type": "code",
   "execution_count": 30,
   "source": [
    "def coba_function():\r\n",
    "    print(\"Halo ini adalah function yang pertama\")\r\n",
    "    print(\"Ini hanya coba function\")\r\n",
    "    print(\"ini adalah function\")"
   ],
   "outputs": [],
   "metadata": {}
  },
  {
   "cell_type": "code",
   "execution_count": 31,
   "source": [
    "coba_function()"
   ],
   "outputs": [
    {
     "output_type": "stream",
     "name": "stdout",
     "text": [
      "Halo ini adalah function yang pertama\n",
      "Ini hanya coba function\n",
      "ini adalah function\n"
     ]
    }
   ],
   "metadata": {}
  },
  {
   "cell_type": "code",
   "execution_count": 32,
   "source": [
    "print(coba_function())"
   ],
   "outputs": [
    {
     "output_type": "stream",
     "name": "stdout",
     "text": [
      "Halo ini adalah function yang pertama\n",
      "Ini hanya coba function\n",
      "ini adalah function\n",
      "None\n"
     ]
    }
   ],
   "metadata": {}
  },
  {
   "cell_type": "code",
   "execution_count": 33,
   "source": [
    "print(coba_function)"
   ],
   "outputs": [
    {
     "output_type": "stream",
     "name": "stdout",
     "text": [
      "<function coba_function at 0x000002F8F3E4A9D0>\n"
     ]
    }
   ],
   "metadata": {}
  },
  {
   "cell_type": "code",
   "execution_count": 34,
   "source": [
    "def my_function(first_name,last_name):\r\n",
    "    print(\"Halo {} - {}\".format(first_name,last_name))"
   ],
   "outputs": [],
   "metadata": {}
  },
  {
   "cell_type": "code",
   "execution_count": 35,
   "source": [
    "my_function(\"Ali\",\"Wijaya\")\r\n",
    "my_function(\"Lukman\",\"Yusuf\")"
   ],
   "outputs": [
    {
     "output_type": "stream",
     "name": "stdout",
     "text": [
      "Halo Ali - Wijaya\n",
      "Halo Lukman - Yusuf\n"
     ]
    }
   ],
   "metadata": {}
  },
  {
   "cell_type": "code",
   "execution_count": 36,
   "source": [
    "my_function(\"Budi\")"
   ],
   "outputs": [
    {
     "output_type": "error",
     "ename": "TypeError",
     "evalue": "my_function() missing 1 required positional argument: 'last_name'",
     "traceback": [
      "\u001b[1;31m---------------------------------------------------------------------------\u001b[0m",
      "\u001b[1;31mTypeError\u001b[0m                                 Traceback (most recent call last)",
      "\u001b[1;32m~\\AppData\\Local\\Temp/ipykernel_29336/1474220614.py\u001b[0m in \u001b[0;36m<module>\u001b[1;34m\u001b[0m\n\u001b[1;32m----> 1\u001b[1;33m \u001b[0mmy_function\u001b[0m\u001b[1;33m(\u001b[0m\u001b[1;34m\"Budi\"\u001b[0m\u001b[1;33m)\u001b[0m\u001b[1;33m\u001b[0m\u001b[1;33m\u001b[0m\u001b[0m\n\u001b[0m",
      "\u001b[1;31mTypeError\u001b[0m: my_function() missing 1 required positional argument: 'last_name'"
     ]
    }
   ],
   "metadata": {}
  },
  {
   "cell_type": "code",
   "execution_count": 37,
   "source": [
    "def my_function2(first_name,last_name=\" \"):\r\n",
    "    print(\"Halo {} - {}\".format(first_name,last_name))"
   ],
   "outputs": [],
   "metadata": {}
  },
  {
   "cell_type": "code",
   "execution_count": 40,
   "source": [
    "my_function2(\"Budi\")"
   ],
   "outputs": [
    {
     "output_type": "stream",
     "name": "stdout",
     "text": [
      "Halo Budi -  \n"
     ]
    }
   ],
   "metadata": {}
  },
  {
   "cell_type": "code",
   "execution_count": 41,
   "source": [
    "# Function keyword"
   ],
   "outputs": [],
   "metadata": {}
  },
  {
   "cell_type": "code",
   "execution_count": 45,
   "source": [
    "def function_baru(anak_ke3, anak_ke2, anak_ke1):\r\n",
    "    print(\"Anak yang paling kecil adalah\", anak_ke3)"
   ],
   "outputs": [],
   "metadata": {}
  },
  {
   "cell_type": "code",
   "execution_count": 43,
   "source": [
    "function_baru(\"Joko\", \"Budi\", \"Ali\")"
   ],
   "outputs": [
    {
     "output_type": "stream",
     "name": "stdout",
     "text": [
      "Anak yang paling kecil adalah Joko\n"
     ]
    }
   ],
   "metadata": {}
  },
  {
   "cell_type": "code",
   "execution_count": 47,
   "source": [
    "function_baru(anak_ke2 = \"Joko\", anak_ke3 = \"Budi\", anak_ke1 = \"Ali\")"
   ],
   "outputs": [
    {
     "output_type": "stream",
     "name": "stdout",
     "text": [
      "Anak yang paling kecil adalah Budi\n"
     ]
    }
   ],
   "metadata": {}
  },
  {
   "cell_type": "code",
   "execution_count": 48,
   "source": [
    "# Contoh Function"
   ],
   "outputs": [],
   "metadata": {}
  },
  {
   "cell_type": "code",
   "execution_count": 49,
   "source": [
    "nama_buah = []\r\n",
    "\r\n",
    "def tambah_nama_buah(nama):\r\n",
    "    nama_buah.append(nama)\r\n",
    "    print_nama_buah()\r\n",
    "\r\n",
    "def print_nama_buah():\r\n",
    "    for y in nama_buah:\r\n",
    "        print(y)\r\n",
    "    print(\"=========================\")\r\n"
   ],
   "outputs": [],
   "metadata": {}
  },
  {
   "cell_type": "code",
   "execution_count": 50,
   "source": [
    "tambah_nama_buah(\"Jeruk\")\r\n",
    "tambah_nama_buah(\"Apel\")\r\n",
    "tambah_nama_buah(\"Mangga\")\r\n",
    "tambah_nama_buah(\"Pisang\")"
   ],
   "outputs": [
    {
     "output_type": "stream",
     "name": "stdout",
     "text": [
      "Jeruk\n",
      "=========================\n",
      "Jeruk\n",
      "Apel\n",
      "=========================\n",
      "Jeruk\n",
      "Apel\n",
      "Mangga\n",
      "=========================\n",
      "Jeruk\n",
      "Apel\n",
      "Mangga\n",
      "Pisang\n",
      "=========================\n"
     ]
    }
   ],
   "metadata": {}
  },
  {
   "cell_type": "code",
   "execution_count": 51,
   "source": [
    "# Return"
   ],
   "outputs": [],
   "metadata": {}
  },
  {
   "cell_type": "code",
   "execution_count": 52,
   "source": [
    "def total(x,y):\r\n",
    "    total = x + y\r\n",
    "    return total"
   ],
   "outputs": [],
   "metadata": {}
  },
  {
   "cell_type": "code",
   "execution_count": 53,
   "source": [
    "total(10,9)"
   ],
   "outputs": [
    {
     "output_type": "execute_result",
     "data": {
      "text/plain": [
       "19"
      ]
     },
     "metadata": {},
     "execution_count": 53
    }
   ],
   "metadata": {}
  },
  {
   "cell_type": "code",
   "execution_count": 54,
   "source": [
    "def total2(x,y):\r\n",
    "    total = x + y"
   ],
   "outputs": [],
   "metadata": {}
  },
  {
   "cell_type": "code",
   "execution_count": 56,
   "source": [
    "total2(10,9)"
   ],
   "outputs": [],
   "metadata": {}
  },
  {
   "cell_type": "code",
   "execution_count": 58,
   "source": [
    "def total3(x,y):\r\n",
    "    total = x + y\r\n",
    "    print(total)"
   ],
   "outputs": [],
   "metadata": {}
  },
  {
   "cell_type": "code",
   "execution_count": 59,
   "source": [
    "total3(10,9)"
   ],
   "outputs": [
    {
     "output_type": "stream",
     "name": "stdout",
     "text": [
      "19\n"
     ]
    }
   ],
   "metadata": {}
  },
  {
   "cell_type": "code",
   "execution_count": 61,
   "source": [
    "def total_buah_sisa():\r\n",
    "    return 10"
   ],
   "outputs": [],
   "metadata": {}
  },
  {
   "cell_type": "code",
   "execution_count": 62,
   "source": [
    "total_buah = len(nama_buah) + total_buah_sisa()\r\n",
    "print(total_buah)"
   ],
   "outputs": [
    {
     "output_type": "stream",
     "name": "stdout",
     "text": [
      "14\n"
     ]
    }
   ],
   "metadata": {}
  },
  {
   "cell_type": "code",
   "execution_count": 63,
   "source": [
    "# Menghitung luas persegi"
   ],
   "outputs": [],
   "metadata": {}
  },
  {
   "cell_type": "code",
   "execution_count": 64,
   "source": [
    "def luas_persegi(sisi):\r\n",
    "    luas = sisi*sisi\r\n",
    "    return luas"
   ],
   "outputs": [],
   "metadata": {}
  },
  {
   "cell_type": "code",
   "execution_count": 65,
   "source": [
    "luas_persegi(5)"
   ],
   "outputs": [
    {
     "output_type": "execute_result",
     "data": {
      "text/plain": [
       "25"
      ]
     },
     "metadata": {},
     "execution_count": 65
    }
   ],
   "metadata": {}
  },
  {
   "cell_type": "code",
   "execution_count": 68,
   "source": [
    "def volume(sisi):\r\n",
    "    volum = luas_persegi(sisi)*sisi\r\n",
    "    return volum"
   ],
   "outputs": [],
   "metadata": {}
  },
  {
   "cell_type": "code",
   "execution_count": 69,
   "source": [
    "volume(5)"
   ],
   "outputs": [
    {
     "output_type": "execute_result",
     "data": {
      "text/plain": [
       "125"
      ]
     },
     "metadata": {},
     "execution_count": 69
    }
   ],
   "metadata": {}
  },
  {
   "cell_type": "markdown",
   "source": [
    "# Pendalaman Function"
   ],
   "metadata": {}
  },
  {
   "cell_type": "markdown",
   "source": [
    "Buatlah menu chatbot curhat dengan function"
   ],
   "metadata": {}
  },
  {
   "cell_type": "code",
   "execution_count": 71,
   "source": [
    "# Menu awal\r\n",
    "\r\n",
    "def show_menu():\r\n",
    "    print('Silahkan pilih menu yang bisa aku berikan')\r\n",
    "    print('1. Menemani curhatmu')\r\n",
    "    print('2. Keluar')\r\n",
    "\r\n",
    "#Pengantar\r\n",
    "print('Hai, aku AIs, asisten virtual pertamamu')\r\n",
    "print('Siapa namamu?')\r\n",
    "\r\n",
    "nama = input('Masukkan nama:')\r\n",
    "\r\n",
    "print(\"\\nSalam kenal {}\".format(nama))\r\n",
    "print('Apa ada yang bisa aku bantu?')\r\n",
    "\r\n",
    "#Munculkan menu awal\r\n",
    "while True:\r\n",
    "    print(' ')\r\n",
    "    show_menu()\r\n",
    "    \r\n",
    "    menu_awal = input('\\nPilih hanya angka saja ya:')\r\n",
    "    \r\n",
    "    if menu_awal == '1':\r\n",
    "        input('Coba ceritakan curhatmu:')\r\n",
    "        while True:\r\n",
    "            \r\n",
    "            Cerita= input('Coba ceritakan lebih banyak lagi:')\r\n",
    "            \r\n",
    "            if 'bodoh' in Cerita or 'gagal' in Cerita or 'kalah' in Cerita or 'jelek' in Cerita:\r\n",
    "                print('Kenapa kamu berpikir seperti itu?')\r\n",
    "            elif 'kecewa' in Cerita or 'sedih' in Cerita or 'putus asa' in Cerita:\r\n",
    "                print('Sudah berapa lama kamu merasa seperti itu?')\r\n",
    "            elif 'senang' in Cerita or 'berhasil' in Cerita or 'menang' in Cerita or 'hadiah' in Cerita:\r\n",
    "                print('Itu sangan menarik!')\r\n",
    "            else:\r\n",
    "                print('\\nOke, tetap semangat ya!', ':)')\r\n",
    "                print(\"=====================\")\r\n",
    "                break\r\n",
    "    \r\n",
    "    elif menu_awal == '2':\r\n",
    "        print(\"\\nOke, sampai jumpa\")\r\n",
    "        print(\"=====================\")\r\n",
    "        break\r\n",
    "    else:\r\n",
    "        print(\"\\nMaaf, aku belum paham yang kamu mau\")\r\n",
    "        print(\"=====================\")"
   ],
   "outputs": [
    {
     "output_type": "stream",
     "name": "stdout",
     "text": [
      "Hai, aku AIs, asisten virtual pertamamu\n",
      "Siapa namamu?\n",
      "\n",
      "Salam kenal Rizki\n",
      "Apa ada yang bisa aku bantu?\n",
      " \n",
      "Silahkan pilih menu yang bisa aku berikan\n",
      "1. Menemani curhatmu\n",
      "2. Keluar\n",
      "Itu sangan menarik!\n",
      "\n",
      "Oke, tetap semangat ya! :)\n",
      "=====================\n",
      " \n",
      "Silahkan pilih menu yang bisa aku berikan\n",
      "1. Menemani curhatmu\n",
      "2. Keluar\n",
      "\n",
      "Oke, sampai jumpa\n",
      "=====================\n"
     ]
    }
   ],
   "metadata": {}
  }
 ],
 "metadata": {
  "orig_nbformat": 4,
  "language_info": {
   "name": "python",
   "version": "3.9.7",
   "mimetype": "text/x-python",
   "codemirror_mode": {
    "name": "ipython",
    "version": 3
   },
   "pygments_lexer": "ipython3",
   "nbconvert_exporter": "python",
   "file_extension": ".py"
  },
  "kernelspec": {
   "name": "python3",
   "display_name": "Python 3.9.7 64-bit"
  },
  "interpreter": {
   "hash": "9c67e764c16ce5b8c3b26a4747cef9fccf4334b88cd0590648232356b238df85"
  }
 },
 "nbformat": 4,
 "nbformat_minor": 2
}