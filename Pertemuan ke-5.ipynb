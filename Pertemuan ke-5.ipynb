{
 "cells": [
  {
   "cell_type": "markdown",
   "metadata": {},
   "source": [
    "# Soal"
   ]
  },
  {
   "cell_type": "code",
   "execution_count": 2,
   "metadata": {},
   "outputs": [
    {
     "name": "stdout",
     "output_type": "stream",
     "text": [
      "Selamat datang!\n",
      "\n",
      "--Menu--\n",
      "1. Daftar Kontak\n",
      "2. Tambah Kontak\n",
      "3. Keluar\n",
      "\n",
      "Daftar Kontak:\n",
      "Nama: Fawwaz\n",
      "Nomer Telepon: 08123456789\n",
      "Nama: John\n",
      "Nomer Telepon: 08987654321\n",
      "\n",
      "--Menu--\n",
      "1. Daftar Kontak\n",
      "2. Tambah Kontak\n",
      "3. Keluar\n",
      "\n",
      "Program selesai, sampai jumpa!\n",
      "=================================\n"
     ]
    }
   ],
   "source": [
    "#Cara 1\r\n",
    "\r\n",
    "print (\"Selamat datang!\")\r\n",
    "\r\n",
    "nama_kontak = [\"Fawwaz\", \"John\"]\r\n",
    "nomer_kontak = [\"08123456789\",\"08987654321\"]\r\n",
    "\r\n",
    "def show_menu():\r\n",
    "    print (\"\\n--Menu--\")\r\n",
    "    print (\"1. Daftar Kontak\")\r\n",
    "    print (\"2. Tambah Kontak\")\r\n",
    "    print (\"3. Keluar\")\r\n",
    "\r\n",
    "def tampilkan_kontak():\r\n",
    "    print(\"\\nDaftar Kontak:\")\r\n",
    "    for i in range(len(nama_kontak)):\r\n",
    "        print(\"Nama: {}\".format(nama_kontak[i]))\r\n",
    "        print(\"Nomer Telepon: {}\".format(nomer_kontak[i]))\r\n",
    "    \r\n",
    "def tambah_kontak():\r\n",
    "    nama = input(\"Nama : \")\r\n",
    "    nomer = str(input(\"Nomer Telepon : \"))\r\n",
    "    nama_kontak.append(nama)\r\n",
    "    nomer_kontak.append(nomer)\r\n",
    "    print(\"\\n===========================\")\r\n",
    "    print(\"Kontak berhasil ditambahkan\")\r\n",
    "    print(\"===========================\")\r\n",
    "    \r\n",
    "while True:\r\n",
    "    show_menu()\r\n",
    "    \r\n",
    "    menu = int(input(\"\\nPilih menu (hanya angka):\"))\r\n",
    "    \r\n",
    "    if menu == 1: \r\n",
    "        tampilkan_kontak()\r\n",
    "    elif menu == 2: \r\n",
    "        tambah_kontak()\r\n",
    "    elif menu == 3: \r\n",
    "        print(\"\\nProgram selesai, sampai jumpa!\")\r\n",
    "        print(\"=================================\")\r\n",
    "        break\r\n",
    "    else: \r\n",
    "        print (\"Menu tidak tersedia\")"
   ]
  },
  {
   "cell_type": "code",
   "execution_count": 3,
   "metadata": {},
   "outputs": [
    {
     "name": "stdout",
     "output_type": "stream",
     "text": [
      "Selamat Datang!\n",
      "\n",
      "--- Menu ---\n",
      "1. Daftar Kontak\n",
      "2. Tambah Kontak\n",
      "3. Keluar\n",
      "\n",
      "Program selesai, sampai jumpa!\n",
      "================================\n"
     ]
    }
   ],
   "source": [
    "#Cara 2\r\n",
    "\r\n",
    "print(\"Selamat Datang!\")\r\n",
    "\r\n",
    "daftar_kontak = []\r\n",
    "\r\n",
    "def tampilkan_menu():\r\n",
    "    print(\"\\n--- Menu ---\")\r\n",
    "    print(\"1. Daftar Kontak\")\r\n",
    "    print(\"2. Tambah Kontak\")\r\n",
    "    print(\"3. Keluar\")\r\n",
    "\r\n",
    "def tampilkan_kontak():\r\n",
    "    print(\"\\nDaftar Kontak:\")\r\n",
    "    for kontak in daftar_kontak:\r\n",
    "        print(\"Nama: \" + kontak[\"nama\"])\r\n",
    "        print(\"No Telepon: \" + kontak[\"telp\"])\r\n",
    "\r\n",
    "def tambah_kontak():\r\n",
    "    nama = input(\"Nama: \")\r\n",
    "    telp = input(\"No Telepon: \")\r\n",
    "    kontak = {\r\n",
    "        \"nama\": nama,\r\n",
    "        \"telp\": telp\r\n",
    "    }\r\n",
    "    daftar_kontak.append(kontak)\r\n",
    "    print(\"\\n===========================\")\r\n",
    "    print(\"Kontak berhasil ditambahkan\")\r\n",
    "    print(\"===========================\")\r\n",
    "\r\n",
    "def kontak_kosong():\r\n",
    "    if not daftar_kontak:\r\n",
    "        print(\"=================================\")\r\n",
    "        print (\"Daftar kontak kosong!\\nSilahkan menambahkan data\")\r\n",
    "        print(\"=================================\")\r\n",
    "    \r\n",
    "while True:\r\n",
    "\r\n",
    "    tampilkan_menu()\r\n",
    "\r\n",
    "    menu = input(\"\\nPilih menu: \")\r\n",
    "\r\n",
    "    if menu == \"1\":\r\n",
    "        tampilkan_kontak()\r\n",
    "        kontak_kosong()\r\n",
    "    elif menu == \"2\":\r\n",
    "        tambah_kontak()\r\n",
    "    elif menu == \"3\":\r\n",
    "        print(\"\\nProgram selesai, sampai jumpa!\")\r\n",
    "        print(\"================================\")\r\n",
    "        break\r\n",
    "    else:\r\n",
    "        print(\"Menu tidak tersedia\")"
   ]
  },
  {
   "cell_type": "markdown",
   "metadata": {},
   "source": [
    "# Soal bonus 1"
   ]
  },
  {
   "cell_type": "code",
   "execution_count": 5,
   "metadata": {},
   "outputs": [
    {
     "name": "stdout",
     "output_type": "stream",
     "text": [
      "Hai, aku AIs, asisten virtual pertamamu\n",
      "Siapa namamu?\n",
      "\n",
      "Salam kenal Rizki\n",
      "Apa ada yang bisa aku bantu?\n",
      " \n",
      "Silahkan pilih menu yang bisa aku berikan\n",
      "1. Menghitung dengan kalkulator\n",
      "2. Menemani curhatmu\n",
      "3. Keluar\n",
      "Nilai 10 + 23 = 33\n",
      "==========================\n",
      " \n",
      "Silahkan pilih menu yang bisa aku berikan\n",
      "1. Menghitung dengan kalkulator\n",
      "2. Menemani curhatmu\n",
      "3. Keluar\n",
      "\n",
      "Oke, sampai jumpa\n",
      "=====================\n"
     ]
    }
   ],
   "source": [
    "\r\n",
    "def show_menu():\r\n",
    "    print('Silahkan pilih menu yang bisa aku berikan')\r\n",
    "    print('1. Menghitung dengan kalkulator')\r\n",
    "    print('2. Menemani curhatmu')\r\n",
    "    print('3. Keluar')\r\n",
    "\r\n",
    "#Pengantar\r\n",
    "print('Hai, aku AIs, asisten virtual pertamamu')\r\n",
    "print('Siapa namamu?')\r\n",
    "\r\n",
    "nama = input('Masukkan nama:')\r\n",
    "\r\n",
    "print(\"\\nSalam kenal {}\".format(nama))\r\n",
    "print('Apa ada yang bisa aku bantu?')\r\n",
    "\r\n",
    "#Munculkan menu awal\r\n",
    "while True:\r\n",
    "    print(' ')\r\n",
    "    show_menu()\r\n",
    "    \r\n",
    "    menu_awal = input('\\nPilih hanya angka saja ya:')\r\n",
    "    \r\n",
    "    if menu_awal == '1':\r\n",
    "        operasi = input('Silahkan pilih menu= 1:Penjumlahan, 2:Pengurangan, 3:Perkalian, 4:Pembagian, 5:Keluar')\r\n",
    "        if operasi == '1':\r\n",
    "            x = int(input('Masukkan angka ke-1:'))\r\n",
    "            y = int(input('Masukkan angka ke-2'))\r\n",
    "            print('Nilai {} + {}'.format(x,y),'=',x+y)\r\n",
    "            print('==========================')\r\n",
    "        elif operasi == '2':\r\n",
    "            x = int(input('Masukkan angka ke-1:'))\r\n",
    "            y = int(input('Masukkan angka ke-2'))\r\n",
    "            print('Nilai {} - {}'.format(x,y),'=',x-y)\r\n",
    "            print('==========================')\r\n",
    "        elif operasi == '3':\r\n",
    "            x = int(input('Masukkan angka ke-1:'))\r\n",
    "            y = int(input('Masukkan angka ke-2'))\r\n",
    "            print('Nilai {} x {}'.format(x,y),'=',x*y)\r\n",
    "            print('==========================')\r\n",
    "        elif operasi == '4':\r\n",
    "            x = int(input('Masukkan angka ke-1:'))\r\n",
    "            y = int(input('Masukkan angka ke-2'))\r\n",
    "            print('Nilai {} : {}'.format(x,y),'=',x/y)\r\n",
    "            print('==========================')\r\n",
    "        elif operasi == '5':\r\n",
    "            print('\\nOke, terima kasih telah menggunakan kalkulator ini')\r\n",
    "            print('==========================')\r\n",
    "        else:\r\n",
    "            print('\\nMaaf, pilihan menu angka tidak ada')\r\n",
    "            print('==========================')\r\n",
    "\r\n",
    "        \r\n",
    "    elif menu_awal == '2':\r\n",
    "        input('Coba ceritakan curhatmu:')\r\n",
    "        while True:\r\n",
    "            \r\n",
    "            Cerita= input('Coba ceritakan lebih banyak lagi:')\r\n",
    "            \r\n",
    "            if 'bodoh' in Cerita or 'gagal' in Cerita or 'kalah' in Cerita or 'jelek' in Cerita:\r\n",
    "                print('Kenapa kamu berpikir seperti itu?')\r\n",
    "            elif 'kecewa' in Cerita or 'sedih' in Cerita or 'putus asa' in Cerita:\r\n",
    "                print('Sudah berapa lama kamu merasa seperti itu?')\r\n",
    "            elif 'senang' in Cerita or 'berhasil' in Cerita or 'menang' in Cerita or 'hadiah' in Cerita:\r\n",
    "                print('Itu sangan menarik!')\r\n",
    "            else:\r\n",
    "                print('\\nOke, tetap semangat ya!', ':)')\r\n",
    "                print(\"=====================\")\r\n",
    "                break\r\n",
    "    \r\n",
    "    elif menu_awal == '3':\r\n",
    "        print(\"\\nOke, sampai jumpa\")\r\n",
    "        print(\"=====================\")\r\n",
    "        break\r\n",
    "    else:\r\n",
    "        print(\"\\nMaaf, aku belum paham yang kamu mau\")\r\n",
    "        print(\"=====================\")"
   ]
  },
  {
   "cell_type": "markdown",
   "metadata": {},
   "source": [
    "# Soal bonus 2"
   ]
  },
  {
   "cell_type": "code",
   "execution_count": 1,
   "metadata": {},
   "outputs": [
    {
     "name": "stdin",
     "output_type": "stream",
     "text": [
      "Masukkan jumlah angka yang ingin dimasukkan: 4\n",
      "Masukkan angka ke-1 10\n",
      "Masukkan angka ke-2 abc\n"
     ]
    },
    {
     "name": "stdout",
     "output_type": "stream",
     "text": [
      "Data yang anda masukkan tidak valid. Silahkan masukkan angka kembali!\n"
     ]
    },
    {
     "name": "stdin",
     "output_type": "stream",
     "text": [
      "Masukkan angka ke-2 dcs\n"
     ]
    },
    {
     "name": "stdout",
     "output_type": "stream",
     "text": [
      "Data yang anda masukkan tidak valid. Silahkan masukkan angka kembali!\n"
     ]
    },
    {
     "name": "stdin",
     "output_type": "stream",
     "text": [
      "Masukkan angka ke-2 20\n",
      "Masukkan angka ke-3 30\n",
      "Masukkan angka ke-4 asx\n"
     ]
    },
    {
     "name": "stdout",
     "output_type": "stream",
     "text": [
      "Data yang anda masukkan tidak valid. Silahkan masukkan angka kembali!\n"
     ]
    },
    {
     "name": "stdin",
     "output_type": "stream",
     "text": [
      "Masukkan angka ke-4 10\n"
     ]
    },
    {
     "name": "stdout",
     "output_type": "stream",
     "text": [
      "\n",
      "=================================================\n",
      "Rata-rata angka yang dimasukkan adalah 17.5\n",
      "=================================================\n"
     ]
    }
   ],
   "source": [
    "count = int(input('Masukkan jumlah angka yang ingin dimasukkan:')) #memasukkan berapa banyaknya angka yang ingin dimasukkan\r\n",
    "total=0\r\n",
    "x=1 #variabel x untuk input angka urutan ke-\r\n",
    "while x <= count:\r\n",
    "    try:\r\n",
    "        n = float(input('Masukkan angka ke-{}'.format(x)))\r\n",
    "    except:\r\n",
    "        print('Data yang anda masukkan tidak valid. Silahkan masukkan angka kembali!') #jika terjadi error\r\n",
    "    else: #jika tidak terjadi error, maka program akan dilanjutkan ke syntax ini\r\n",
    "        x=x+1 \r\n",
    "        total = total + n #menghitung total angka yang dimasukkan\r\n",
    "    rata = total/count #menghitung rata-rata\r\n",
    "print(\"\\n=================================================\")\r\n",
    "print('Rata-rata angka yang dimasukkan adalah {}'.format(round(rata,2))) #Kesimpulan rata-rata angka yang dimasukkan dengan pembulatan 2 desimal\r\n",
    "print(\"=================================================\")"
   ]
  },
  {
   "cell_type": "markdown",
   "metadata": {},
   "source": [
    "# Modules"
   ]
  },
  {
   "cell_type": "code",
   "execution_count": 2,
   "metadata": {},
   "outputs": [],
   "source": [
    "def greeting(name):\n",
    "    print('Hello,' + name)"
   ]
  },
  {
   "cell_type": "code",
   "execution_count": 3,
   "metadata": {},
   "outputs": [
    {
     "name": "stdout",
     "output_type": "stream",
     "text": [
      "Package                       Version            \n",
      "----------------------------- -------------------\n",
      "argon2-cffi                   20.1.0             \n",
      "async-generator               1.10               \n",
      "attrs                         20.2.0             \n",
      "backcall                      0.2.0              \n",
      "backports.functools-lru-cache 1.6.1              \n",
      "bleach                        3.2.1              \n",
      "certifi                       2020.6.20          \n",
      "cffi                          1.14.0             \n",
      "chardet                       3.0.4              \n",
      "colorama                      0.4.4              \n",
      "conda                         4.9.0              \n",
      "conda-package-handling        1.7.0              \n",
      "cryptography                  2.9.2              \n",
      "decorator                     4.4.2              \n",
      "defusedxml                    0.6.0              \n",
      "entrypoints                   0.3                \n",
      "idna                          2.9                \n",
      "importlib-metadata            2.0.0              \n",
      "ipykernel                     5.3.4              \n",
      "ipython                       7.19.0             \n",
      "ipython-genutils              0.2.0              \n",
      "jedi                          0.17.2             \n",
      "Jinja2                        2.11.2             \n",
      "json5                         0.9.5              \n",
      "jsonschema                    3.2.0              \n",
      "jupyter-client                6.1.7              \n",
      "jupyter-core                  4.6.3              \n",
      "jupyterlab                    2.2.9              \n",
      "jupyterlab-pygments           0.1.2              \n",
      "jupyterlab-server             1.2.0              \n",
      "MarkupSafe                    1.1.1              \n",
      "menuinst                      1.4.16             \n",
      "mistune                       0.8.4              \n",
      "nbclient                      0.5.1              \n",
      "nbconvert                     6.0.7              \n",
      "nbformat                      5.0.8              \n",
      "nest-asyncio                  1.4.2              \n",
      "notebook                      6.1.4              \n",
      "packaging                     20.4               \n",
      "pandocfilters                 1.4.2              \n",
      "parso                         0.7.1              \n",
      "pickleshare                   0.7.5              \n",
      "pip                           20.0.2             \n",
      "prometheus-client             0.8.0              \n",
      "prompt-toolkit                3.0.8              \n",
      "pycosat                       0.6.3              \n",
      "pycparser                     2.20               \n",
      "Pygments                      2.7.2              \n",
      "pyOpenSSL                     19.1.0             \n",
      "pyparsing                     2.4.7              \n",
      "pyrsistent                    0.17.3             \n",
      "PySocks                       1.7.1              \n",
      "python-dateutil               2.8.1              \n",
      "pywin32                       227                \n",
      "pywinpty                      0.5.7              \n",
      "pyzmq                         19.0.2             \n",
      "requests                      2.23.0             \n",
      "ruamel-yaml                   0.15.87            \n",
      "Send2Trash                    1.5.0              \n",
      "setuptools                    46.4.0.post20200518\n",
      "six                           1.14.0             \n",
      "terminado                     0.9.1              \n",
      "testpath                      0.4.4              \n",
      "tornado                       6.1                \n",
      "tqdm                          4.46.0             \n",
      "traitlets                     5.0.5              \n",
      "urllib3                       1.25.8             \n",
      "wcwidth                       0.2.5              \n",
      "webencodings                  0.5.1              \n",
      "wheel                         0.34.2             \n",
      "win-inet-pton                 1.1.0              \n",
      "wincertstore                  0.2                \n",
      "zipp                          3.4.0              \n"
     ]
    }
   ],
   "source": [
    "!pip list"
   ]
  },
  {
   "cell_type": "code",
   "execution_count": 4,
   "metadata": {},
   "outputs": [
    {
     "name": "stdout",
     "output_type": "stream",
     "text": [
      "Collecting mymodule\n",
      "  Downloading myModule-1.0.0.tar.gz (787 bytes)\n",
      "Building wheels for collected packages: mymodule\n",
      "  Building wheel for mymodule (setup.py): started\n",
      "  Building wheel for mymodule (setup.py): finished with status 'done'\n",
      "  Created wheel for mymodule: filename=myModule-1.0.0-py3-none-any.whl size=1462 sha256=f1e9f1fdbb29eb3c431dbd629d4cf2ad5d96369917d21ca25f3fc65814150c48\n",
      "  Stored in directory: c:\\users\\melly\\appdata\\local\\pip\\cache\\wheels\\84\\af\\f1\\239a1937485ecb8bc042aedbddea3e52700bd52b7413dd97b1\n",
      "Successfully built mymodule\n",
      "Installing collected packages: mymodule\n",
      "Successfully installed mymodule-1.0.0\n"
     ]
    }
   ],
   "source": [
    "!pip install mymodule"
   ]
  },
  {
   "cell_type": "code",
   "execution_count": 5,
   "metadata": {},
   "outputs": [
    {
     "name": "stdout",
     "output_type": "stream",
     "text": [
      "Package                       Version            \n",
      "----------------------------- -------------------\n",
      "argon2-cffi                   20.1.0             \n",
      "async-generator               1.10               \n",
      "attrs                         20.2.0             \n",
      "backcall                      0.2.0              \n",
      "backports.functools-lru-cache 1.6.1              \n",
      "bleach                        3.2.1              \n",
      "certifi                       2020.6.20          \n",
      "cffi                          1.14.0             \n",
      "chardet                       3.0.4              \n",
      "colorama                      0.4.4              \n",
      "conda                         4.9.0              \n",
      "conda-package-handling        1.7.0              \n",
      "cryptography                  2.9.2              \n",
      "decorator                     4.4.2              \n",
      "defusedxml                    0.6.0              \n",
      "entrypoints                   0.3                \n",
      "idna                          2.9                \n",
      "importlib-metadata            2.0.0              \n",
      "ipykernel                     5.3.4              \n",
      "ipython                       7.19.0             \n",
      "ipython-genutils              0.2.0              \n",
      "jedi                          0.17.2             \n",
      "Jinja2                        2.11.2             \n",
      "json5                         0.9.5              \n",
      "jsonschema                    3.2.0              \n",
      "jupyter-client                6.1.7              \n",
      "jupyter-core                  4.6.3              \n",
      "jupyterlab                    2.2.9              \n",
      "jupyterlab-pygments           0.1.2              \n",
      "jupyterlab-server             1.2.0              \n",
      "MarkupSafe                    1.1.1              \n",
      "menuinst                      1.4.16             \n",
      "mistune                       0.8.4              \n",
      "myModule                      1.0.0              \n",
      "nbclient                      0.5.1              \n",
      "nbconvert                     6.0.7              \n",
      "nbformat                      5.0.8              \n",
      "nest-asyncio                  1.4.2              \n",
      "notebook                      6.1.4              \n",
      "packaging                     20.4               \n",
      "pandocfilters                 1.4.2              \n",
      "parso                         0.7.1              \n",
      "pickleshare                   0.7.5              \n",
      "pip                           20.0.2             \n",
      "prometheus-client             0.8.0              \n",
      "prompt-toolkit                3.0.8              \n",
      "pycosat                       0.6.3              \n",
      "pycparser                     2.20               \n",
      "Pygments                      2.7.2              \n",
      "pyOpenSSL                     19.1.0             \n",
      "pyparsing                     2.4.7              \n",
      "pyrsistent                    0.17.3             \n",
      "PySocks                       1.7.1              \n",
      "python-dateutil               2.8.1              \n",
      "pywin32                       227                \n",
      "pywinpty                      0.5.7              \n",
      "pyzmq                         19.0.2             \n",
      "requests                      2.23.0             \n",
      "ruamel-yaml                   0.15.87            \n",
      "Send2Trash                    1.5.0              \n",
      "setuptools                    46.4.0.post20200518\n",
      "six                           1.14.0             \n",
      "terminado                     0.9.1              \n",
      "testpath                      0.4.4              \n",
      "tornado                       6.1                \n",
      "tqdm                          4.46.0             \n",
      "traitlets                     5.0.5              \n",
      "urllib3                       1.25.8             \n",
      "wcwidth                       0.2.5              \n",
      "webencodings                  0.5.1              \n",
      "wheel                         0.34.2             \n",
      "win-inet-pton                 1.1.0              \n",
      "wincertstore                  0.2                \n",
      "zipp                          3.4.0              \n"
     ]
    }
   ],
   "source": [
    "!pip list"
   ]
  },
  {
   "cell_type": "code",
   "execution_count": 6,
   "metadata": {},
   "outputs": [
    {
     "name": "stdout",
     "output_type": "stream",
     "text": [
      "Hello,Toni\n"
     ]
    }
   ],
   "source": [
    "import myModule\n",
    "\n",
    "greeting('Toni')"
   ]
  },
  {
   "cell_type": "code",
   "execution_count": 7,
   "metadata": {},
   "outputs": [
    {
     "name": "stdout",
     "output_type": "stream",
     "text": [
      "Hello,Lala\n"
     ]
    }
   ],
   "source": [
    "greeting('Lala')"
   ]
  },
  {
   "cell_type": "code",
   "execution_count": 11,
   "metadata": {},
   "outputs": [
    {
     "name": "stdout",
     "output_type": "stream",
     "text": [
      "^C\n"
     ]
    }
   ],
   "source": [
    "!pip uninstall myModule"
   ]
  },
  {
   "cell_type": "markdown",
   "metadata": {},
   "source": [
    "# Module date"
   ]
  },
  {
   "cell_type": "code",
   "execution_count": 12,
   "metadata": {},
   "outputs": [
    {
     "name": "stdout",
     "output_type": "stream",
     "text": [
      "2021-09-11 14:20:20.022759\n",
      "2021\n",
      "A = Saturday\n",
      "a = Sat\n",
      "w = 6\n",
      "d = 11\n",
      "b = Sep\n",
      "B = September\n",
      "m = 09\n",
      "y = 21\n",
      "Y = 2021\n",
      "H = 14\n",
      "I = 02\n",
      "p = PM\n",
      "M = 20\n",
      "S = 20\n",
      "f = 022759\n",
      "j = 254\n",
      "U = 36\n",
      "W = 36\n",
      "c = Sat Sep 11 14:20:20 2021\n",
      "x = 09/11/21\n",
      "X = 14:20:20\n",
      "2020-05-17\n",
      "May\n",
      "12:05:17\n"
     ]
    }
   ],
   "source": [
    "# date time\n",
    "import datetime\n",
    "\n",
    "x = datetime.datetime.now()\n",
    "print(x)\n",
    "print(x.year)\n",
    "print(\"A = \" + x.strftime(\"%A\"))\n",
    "print(\"a = \" + x.strftime(\"%a\"))\n",
    "print(\"w = \" + x.strftime(\"%w\"))\n",
    "print(\"d = \" + x.strftime(\"%d\"))\n",
    "print(\"b = \" + x.strftime(\"%b\"))\n",
    "print(\"B = \" + x.strftime(\"%B\"))\n",
    "print(\"m = \" + x.strftime(\"%m\"))\n",
    "print(\"y = \" + x.strftime(\"%y\"))\n",
    "print(\"Y = \" + x.strftime(\"%Y\"))\n",
    "print(\"H = \" + x.strftime(\"%H\"))\n",
    "print(\"I = \" + x.strftime(\"%I\"))\n",
    "print(\"p = \" + x.strftime(\"%p\"))\n",
    "print(\"M = \" + x.strftime(\"%M\"))\n",
    "print(\"S = \" + x.strftime(\"%S\"))\n",
    "print(\"f = \" + x.strftime(\"%f\"))\n",
    "print(\"j = \" + x.strftime(\"%j\"))\n",
    "print(\"U = \" + x.strftime(\"%U\"))\n",
    "print(\"W = \" + x.strftime(\"%W\"))\n",
    "print(\"c = \" + x.strftime(\"%c\"))\n",
    "print(\"x = \" + x.strftime(\"%x\"))\n",
    "print(\"X = \" + x.strftime(\"%X\"))\n",
    "\n",
    "#setting manual data in datetime format\n",
    "y = datetime.date(2020, 5, 17)\n",
    "print(y)\n",
    "print(y.strftime(\"%B\"))\n",
    "\n",
    "z = datetime.time(12, 5, 17)\n",
    "print(z)"
   ]
  },
  {
   "cell_type": "code",
   "execution_count": 13,
   "metadata": {},
   "outputs": [
    {
     "name": "stdout",
     "output_type": "stream",
     "text": [
      "2021-09-11 14:22:57.492591\n"
     ]
    }
   ],
   "source": [
    "x = datetime.datetime.now()\n",
    "print(x)"
   ]
  },
  {
   "cell_type": "code",
   "execution_count": 14,
   "metadata": {},
   "outputs": [
    {
     "name": "stdout",
     "output_type": "stream",
     "text": [
      "11-09-2021\n"
     ]
    }
   ],
   "source": [
    "print(x.strftime('%d-%m-%Y'))"
   ]
  },
  {
   "cell_type": "code",
   "execution_count": 15,
   "metadata": {},
   "outputs": [
    {
     "name": "stdout",
     "output_type": "stream",
     "text": [
      "Saturday\n"
     ]
    }
   ],
   "source": [
    "hari = x.strftime('%A')\n",
    "print(hari)"
   ]
  },
  {
   "cell_type": "code",
   "execution_count": 16,
   "metadata": {},
   "outputs": [],
   "source": [
    "hari_ind = {'Sunday': 'Minggu','Monday':'Senin','Tuesday':'Selasa','Wednesday':'Rabu','Thursday':'Kamis',\n",
    "           'Friday':'Jumat','Saturday':'Sabtu'}"
   ]
  },
  {
   "cell_type": "code",
   "execution_count": 17,
   "metadata": {},
   "outputs": [
    {
     "name": "stdout",
     "output_type": "stream",
     "text": [
      "Sabtu\n"
     ]
    }
   ],
   "source": [
    "print('{}'.format(hari_ind[hari]))"
   ]
  },
  {
   "cell_type": "markdown",
   "metadata": {},
   "source": [
    "# Module Math"
   ]
  },
  {
   "cell_type": "code",
   "execution_count": 18,
   "metadata": {},
   "outputs": [],
   "source": [
    "import math"
   ]
  },
  {
   "cell_type": "code",
   "execution_count": 19,
   "metadata": {},
   "outputs": [
    {
     "name": "stdout",
     "output_type": "stream",
     "text": [
      "3.141592653589793\n"
     ]
    }
   ],
   "source": [
    "x = math.pi\n",
    "print(x)"
   ]
  },
  {
   "cell_type": "code",
   "execution_count": 20,
   "metadata": {},
   "outputs": [
    {
     "name": "stdout",
     "output_type": "stream",
     "text": [
      "5.0\n"
     ]
    }
   ],
   "source": [
    "y = math.sqrt(25)\n",
    "print(y)"
   ]
  },
  {
   "cell_type": "code",
   "execution_count": 21,
   "metadata": {},
   "outputs": [
    {
     "name": "stdout",
     "output_type": "stream",
     "text": [
      "9\n"
     ]
    }
   ],
   "source": [
    "z = math.ceil(8.2)\n",
    "print(z)"
   ]
  },
  {
   "cell_type": "code",
   "execution_count": 22,
   "metadata": {},
   "outputs": [
    {
     "name": "stdout",
     "output_type": "stream",
     "text": [
      "7\n"
     ]
    }
   ],
   "source": [
    "w = math.floor(7.9)\n",
    "print(w)"
   ]
  },
  {
   "cell_type": "code",
   "execution_count": 23,
   "metadata": {},
   "outputs": [
    {
     "name": "stdout",
     "output_type": "stream",
     "text": [
      "2.0\n"
     ]
    }
   ],
   "source": [
    "t = math.fmod(10,4)\n",
    "print(t)"
   ]
  },
  {
   "cell_type": "code",
   "execution_count": 24,
   "metadata": {},
   "outputs": [
    {
     "name": "stdout",
     "output_type": "stream",
     "text": [
      "\n",
      "Welcome to Python 3.8's help utility!\n",
      "\n",
      "If this is your first time using Python, you should definitely check out\n",
      "the tutorial on the Internet at https://docs.python.org/3.8/tutorial/.\n",
      "\n",
      "Enter the name of any module, keyword, or topic to get help on writing\n",
      "Python programs and using Python modules.  To quit this help utility and\n",
      "return to the interpreter, just type \"quit\".\n",
      "\n",
      "To get a list of available modules, keywords, symbols, or topics, type\n",
      "\"modules\", \"keywords\", \"symbols\", or \"topics\".  Each module also comes\n",
      "with a one-line summary of what it does; to list the modules whose name\n",
      "or summary contain a given string such as \"spam\", type \"modules spam\".\n",
      "\n"
     ]
    },
    {
     "name": "stdin",
     "output_type": "stream",
     "text": [
      "help>  math\n"
     ]
    },
    {
     "name": "stdout",
     "output_type": "stream",
     "text": [
      "Help on built-in module math:\n",
      "\n",
      "NAME\n",
      "    math\n",
      "\n",
      "DESCRIPTION\n",
      "    This module provides access to the mathematical functions\n",
      "    defined by the C standard.\n",
      "\n",
      "FUNCTIONS\n",
      "    acos(x, /)\n",
      "        Return the arc cosine (measured in radians) of x.\n",
      "    \n",
      "    acosh(x, /)\n",
      "        Return the inverse hyperbolic cosine of x.\n",
      "    \n",
      "    asin(x, /)\n",
      "        Return the arc sine (measured in radians) of x.\n",
      "    \n",
      "    asinh(x, /)\n",
      "        Return the inverse hyperbolic sine of x.\n",
      "    \n",
      "    atan(x, /)\n",
      "        Return the arc tangent (measured in radians) of x.\n",
      "    \n",
      "    atan2(y, x, /)\n",
      "        Return the arc tangent (measured in radians) of y/x.\n",
      "        \n",
      "        Unlike atan(y/x), the signs of both x and y are considered.\n",
      "    \n",
      "    atanh(x, /)\n",
      "        Return the inverse hyperbolic tangent of x.\n",
      "    \n",
      "    ceil(x, /)\n",
      "        Return the ceiling of x as an Integral.\n",
      "        \n",
      "        This is the smallest integer >= x.\n",
      "    \n",
      "    comb(n, k, /)\n",
      "        Number of ways to choose k items from n items without repetition and without order.\n",
      "        \n",
      "        Evaluates to n! / (k! * (n - k)!) when k <= n and evaluates\n",
      "        to zero when k > n.\n",
      "        \n",
      "        Also called the binomial coefficient because it is equivalent\n",
      "        to the coefficient of k-th term in polynomial expansion of the\n",
      "        expression (1 + x)**n.\n",
      "        \n",
      "        Raises TypeError if either of the arguments are not integers.\n",
      "        Raises ValueError if either of the arguments are negative.\n",
      "    \n",
      "    copysign(x, y, /)\n",
      "        Return a float with the magnitude (absolute value) of x but the sign of y.\n",
      "        \n",
      "        On platforms that support signed zeros, copysign(1.0, -0.0)\n",
      "        returns -1.0.\n",
      "    \n",
      "    cos(x, /)\n",
      "        Return the cosine of x (measured in radians).\n",
      "    \n",
      "    cosh(x, /)\n",
      "        Return the hyperbolic cosine of x.\n",
      "    \n",
      "    degrees(x, /)\n",
      "        Convert angle x from radians to degrees.\n",
      "    \n",
      "    dist(p, q, /)\n",
      "        Return the Euclidean distance between two points p and q.\n",
      "        \n",
      "        The points should be specified as sequences (or iterables) of\n",
      "        coordinates.  Both inputs must have the same dimension.\n",
      "        \n",
      "        Roughly equivalent to:\n",
      "            sqrt(sum((px - qx) ** 2.0 for px, qx in zip(p, q)))\n",
      "    \n",
      "    erf(x, /)\n",
      "        Error function at x.\n",
      "    \n",
      "    erfc(x, /)\n",
      "        Complementary error function at x.\n",
      "    \n",
      "    exp(x, /)\n",
      "        Return e raised to the power of x.\n",
      "    \n",
      "    expm1(x, /)\n",
      "        Return exp(x)-1.\n",
      "        \n",
      "        This function avoids the loss of precision involved in the direct evaluation of exp(x)-1 for small x.\n",
      "    \n",
      "    fabs(x, /)\n",
      "        Return the absolute value of the float x.\n",
      "    \n",
      "    factorial(x, /)\n",
      "        Find x!.\n",
      "        \n",
      "        Raise a ValueError if x is negative or non-integral.\n",
      "    \n",
      "    floor(x, /)\n",
      "        Return the floor of x as an Integral.\n",
      "        \n",
      "        This is the largest integer <= x.\n",
      "    \n",
      "    fmod(x, y, /)\n",
      "        Return fmod(x, y), according to platform C.\n",
      "        \n",
      "        x % y may differ.\n",
      "    \n",
      "    frexp(x, /)\n",
      "        Return the mantissa and exponent of x, as pair (m, e).\n",
      "        \n",
      "        m is a float and e is an int, such that x = m * 2.**e.\n",
      "        If x is 0, m and e are both 0.  Else 0.5 <= abs(m) < 1.0.\n",
      "    \n",
      "    fsum(seq, /)\n",
      "        Return an accurate floating point sum of values in the iterable seq.\n",
      "        \n",
      "        Assumes IEEE-754 floating point arithmetic.\n",
      "    \n",
      "    gamma(x, /)\n",
      "        Gamma function at x.\n",
      "    \n",
      "    gcd(x, y, /)\n",
      "        greatest common divisor of x and y\n",
      "    \n",
      "    hypot(...)\n",
      "        hypot(*coordinates) -> value\n",
      "        \n",
      "        Multidimensional Euclidean distance from the origin to a point.\n",
      "        \n",
      "        Roughly equivalent to:\n",
      "            sqrt(sum(x**2 for x in coordinates))\n",
      "        \n",
      "        For a two dimensional point (x, y), gives the hypotenuse\n",
      "        using the Pythagorean theorem:  sqrt(x*x + y*y).\n",
      "        \n",
      "        For example, the hypotenuse of a 3/4/5 right triangle is:\n",
      "        \n",
      "            >>> hypot(3.0, 4.0)\n",
      "            5.0\n",
      "    \n",
      "    isclose(a, b, *, rel_tol=1e-09, abs_tol=0.0)\n",
      "        Determine whether two floating point numbers are close in value.\n",
      "        \n",
      "          rel_tol\n",
      "            maximum difference for being considered \"close\", relative to the\n",
      "            magnitude of the input values\n",
      "          abs_tol\n",
      "            maximum difference for being considered \"close\", regardless of the\n",
      "            magnitude of the input values\n",
      "        \n",
      "        Return True if a is close in value to b, and False otherwise.\n",
      "        \n",
      "        For the values to be considered close, the difference between them\n",
      "        must be smaller than at least one of the tolerances.\n",
      "        \n",
      "        -inf, inf and NaN behave similarly to the IEEE 754 Standard.  That\n",
      "        is, NaN is not close to anything, even itself.  inf and -inf are\n",
      "        only close to themselves.\n",
      "    \n",
      "    isfinite(x, /)\n",
      "        Return True if x is neither an infinity nor a NaN, and False otherwise.\n",
      "    \n",
      "    isinf(x, /)\n",
      "        Return True if x is a positive or negative infinity, and False otherwise.\n",
      "    \n",
      "    isnan(x, /)\n",
      "        Return True if x is a NaN (not a number), and False otherwise.\n",
      "    \n",
      "    isqrt(n, /)\n",
      "        Return the integer part of the square root of the input.\n",
      "    \n",
      "    ldexp(x, i, /)\n",
      "        Return x * (2**i).\n",
      "        \n",
      "        This is essentially the inverse of frexp().\n",
      "    \n",
      "    lgamma(x, /)\n",
      "        Natural logarithm of absolute value of Gamma function at x.\n",
      "    \n",
      "    log(...)\n",
      "        log(x, [base=math.e])\n",
      "        Return the logarithm of x to the given base.\n",
      "        \n",
      "        If the base not specified, returns the natural logarithm (base e) of x.\n",
      "    \n",
      "    log10(x, /)\n",
      "        Return the base 10 logarithm of x.\n",
      "    \n",
      "    log1p(x, /)\n",
      "        Return the natural logarithm of 1+x (base e).\n",
      "        \n",
      "        The result is computed in a way which is accurate for x near zero.\n",
      "    \n",
      "    log2(x, /)\n",
      "        Return the base 2 logarithm of x.\n",
      "    \n",
      "    modf(x, /)\n",
      "        Return the fractional and integer parts of x.\n",
      "        \n",
      "        Both results carry the sign of x and are floats.\n",
      "    \n",
      "    perm(n, k=None, /)\n",
      "        Number of ways to choose k items from n items without repetition and with order.\n",
      "        \n",
      "        Evaluates to n! / (n - k)! when k <= n and evaluates\n",
      "        to zero when k > n.\n",
      "        \n",
      "        If k is not specified or is None, then k defaults to n\n",
      "        and the function returns n!.\n",
      "        \n",
      "        Raises TypeError if either of the arguments are not integers.\n",
      "        Raises ValueError if either of the arguments are negative.\n",
      "    \n",
      "    pow(x, y, /)\n",
      "        Return x**y (x to the power of y).\n",
      "    \n",
      "    prod(iterable, /, *, start=1)\n",
      "        Calculate the product of all the elements in the input iterable.\n",
      "        \n",
      "        The default start value for the product is 1.\n",
      "        \n",
      "        When the iterable is empty, return the start value.  This function is\n",
      "        intended specifically for use with numeric values and may reject\n",
      "        non-numeric types.\n",
      "    \n",
      "    radians(x, /)\n",
      "        Convert angle x from degrees to radians.\n",
      "    \n",
      "    remainder(x, y, /)\n",
      "        Difference between x and the closest integer multiple of y.\n",
      "        \n",
      "        Return x - n*y where n*y is the closest integer multiple of y.\n",
      "        In the case where x is exactly halfway between two multiples of\n",
      "        y, the nearest even value of n is used. The result is always exact.\n",
      "    \n",
      "    sin(x, /)\n",
      "        Return the sine of x (measured in radians).\n",
      "    \n",
      "    sinh(x, /)\n",
      "        Return the hyperbolic sine of x.\n",
      "    \n",
      "    sqrt(x, /)\n",
      "        Return the square root of x.\n",
      "    \n",
      "    tan(x, /)\n",
      "        Return the tangent of x (measured in radians).\n",
      "    \n",
      "    tanh(x, /)\n",
      "        Return the hyperbolic tangent of x.\n",
      "    \n",
      "    trunc(x, /)\n",
      "        Truncates the Real x to the nearest Integral toward 0.\n",
      "        \n",
      "        Uses the __trunc__ magic method.\n",
      "\n",
      "DATA\n",
      "    e = 2.718281828459045\n",
      "    inf = inf\n",
      "    nan = nan\n",
      "    pi = 3.141592653589793\n",
      "    tau = 6.283185307179586\n",
      "\n",
      "FILE\n",
      "    (built-in)\n",
      "\n",
      "\n",
      "\n",
      "You are now leaving help and returning to the Python interpreter.\n",
      "If you want to ask for help on a particular object directly from the\n",
      "interpreter, you can type \"help(object)\".  Executing \"help('string')\"\n",
      "has the same effect as typing a particular string at the help> prompt.\n"
     ]
    }
   ],
   "source": [
    "help()"
   ]
  },
  {
   "cell_type": "markdown",
   "metadata": {},
   "source": [
    "# File Handling"
   ]
  },
  {
   "cell_type": "code",
   "execution_count": 26,
   "metadata": {},
   "outputs": [],
   "source": [
    "# create file\n",
    "# write & append\n",
    "\n",
    "f = open('Tes File Baru.txt', 'a')\n",
    "f.write('Menambahkan file')\n",
    "f.close()"
   ]
  },
  {
   "cell_type": "code",
   "execution_count": 31,
   "metadata": {},
   "outputs": [
    {
     "name": "stdout",
     "output_type": "stream",
     "text": [
      "Mencoba overwrite\n",
      "Overwrite baris ke-2\n"
     ]
    }
   ],
   "source": [
    "f = open('Tes File Baru.txt', 'r')\n",
    "print(f.read())"
   ]
  },
  {
   "cell_type": "code",
   "execution_count": 28,
   "metadata": {},
   "outputs": [],
   "source": [
    "f = open('Tes File Baru.txt', 'a')\n",
    "f.write('\\nCoba file baris ke-2')\n",
    "f.close()"
   ]
  },
  {
   "cell_type": "code",
   "execution_count": 4,
   "metadata": {},
   "outputs": [],
   "source": [
    "f = open('Tes File Baru.txt', 'w')\n",
    "f.write('Mencoba overwrite\\nOverwrite baris ke-2')\n",
    "f.close()"
   ]
  },
  {
   "cell_type": "code",
   "execution_count": 32,
   "metadata": {},
   "outputs": [
    {
     "name": "stdout",
     "output_type": "stream",
     "text": [
      "Mencoba overwri\n"
     ]
    }
   ],
   "source": [
    "f = open('Tes File Baru.txt', 'r')\n",
    "print(f.read(15))"
   ]
  },
  {
   "cell_type": "code",
   "execution_count": 34,
   "metadata": {},
   "outputs": [
    {
     "name": "stdout",
     "output_type": "stream",
     "text": [
      "Mencoba overwrite\n",
      "\n"
     ]
    }
   ],
   "source": [
    "f = open('Tes File Baru.txt', 'r')\n",
    "print(f.readline())"
   ]
  },
  {
   "cell_type": "code",
   "execution_count": 2,
   "metadata": {},
   "outputs": [],
   "source": [
    "# remove file\n",
    "\n",
    "import os"
   ]
  },
  {
   "cell_type": "code",
   "execution_count": 3,
   "metadata": {},
   "outputs": [],
   "source": [
    "os.remove('Tes File Baru.txt')"
   ]
  },
  {
   "cell_type": "code",
   "execution_count": 6,
   "metadata": {},
   "outputs": [
    {
     "name": "stdout",
     "output_type": "stream",
     "text": [
      "file tidak ada\n"
     ]
    }
   ],
   "source": [
    "# mencoba remove file dengan conditional if\n",
    "\n",
    "file_path = 'Tes File Baru.txt'\n",
    "if os.path.exists(file_path):\n",
    "    os.remove(file_path)\n",
    "    print('file',file_path,'delete')\n",
    "else:\n",
    "    print('file tidak ada')"
   ]
  },
  {
   "cell_type": "markdown",
   "metadata": {},
   "source": [
    "# Mencoba file handling"
   ]
  },
  {
   "cell_type": "code",
   "execution_count": 7,
   "metadata": {},
   "outputs": [
    {
     "name": "stdout",
     "output_type": "stream",
     "text": [
      "Selamat datang!\n",
      "\n",
      "--Menu--\n",
      "1. Daftar Kontak\n",
      "2. Tambah Kontak\n",
      "3. Keluar\n"
     ]
    },
    {
     "name": "stdin",
     "output_type": "stream",
     "text": [
      "\n",
      "Pilih menu (hanya angka): 1\n"
     ]
    },
    {
     "name": "stdout",
     "output_type": "stream",
     "text": [
      "\n",
      "Daftar Kontak:\n",
      "Nama: Fawwaz\n",
      "Nomer Telepon: 08123456789\n",
      "Nama: John\n",
      "Nomer Telepon: 08987654321\n",
      "\n",
      "--Menu--\n",
      "1. Daftar Kontak\n",
      "2. Tambah Kontak\n",
      "3. Keluar\n"
     ]
    },
    {
     "name": "stdin",
     "output_type": "stream",
     "text": [
      "\n",
      "Pilih menu (hanya angka): 2\n",
      "Nama :  Rizki\n",
      "Nomer Telepon :  08888823335566\n"
     ]
    },
    {
     "name": "stdout",
     "output_type": "stream",
     "text": [
      "\n",
      "===========================\n",
      "Kontak berhasil ditambahkan\n",
      "===========================\n",
      "\n",
      "--Menu--\n",
      "1. Daftar Kontak\n",
      "2. Tambah Kontak\n",
      "3. Keluar\n"
     ]
    },
    {
     "name": "stdin",
     "output_type": "stream",
     "text": [
      "\n",
      "Pilih menu (hanya angka): 2\n",
      "Nama :  Jeffry\n",
      "Nomer Telepon :  09998887666555\n"
     ]
    },
    {
     "name": "stdout",
     "output_type": "stream",
     "text": [
      "\n",
      "===========================\n",
      "Kontak berhasil ditambahkan\n",
      "===========================\n",
      "\n",
      "--Menu--\n",
      "1. Daftar Kontak\n",
      "2. Tambah Kontak\n",
      "3. Keluar\n"
     ]
    },
    {
     "name": "stdin",
     "output_type": "stream",
     "text": [
      "\n",
      "Pilih menu (hanya angka): 3\n"
     ]
    },
    {
     "name": "stdout",
     "output_type": "stream",
     "text": [
      "\n",
      "Program selesai, sampai jumpa!\n",
      "=================================\n"
     ]
    }
   ],
   "source": [
    "print (\"Selamat datang!\")\n",
    "\n",
    "nama_kontak = [\"Fawwaz\", \"John\"]\n",
    "nomer_kontak = [\"08123456789\",\"08987654321\"]\n",
    "\n",
    "def show_menu():\n",
    "    print (\"\\n--Menu--\")\n",
    "    print (\"1. Daftar Kontak\")\n",
    "    print (\"2. Tambah Kontak\")\n",
    "    print (\"3. Keluar\")\n",
    "\n",
    "def tampilkan_kontak():\n",
    "    print(\"\\nDaftar Kontak:\")\n",
    "    for i in range(len(nama_kontak)):\n",
    "        print(\"Nama: {}\".format(nama_kontak[i]))\n",
    "        print(\"Nomer Telepon: {}\".format(nomer_kontak[i]))\n",
    "    \n",
    "def tambah_kontak():\n",
    "    nama = input(\"Nama : \")\n",
    "    nomer = str(input(\"Nomer Telepon : \"))\n",
    "    nama_kontak.append(nama)\n",
    "    nomer_kontak.append(nomer)\n",
    "    print(\"\\n===========================\")\n",
    "    print(\"Kontak berhasil ditambahkan\")\n",
    "    print(\"===========================\")\n",
    "\n",
    "def create_kontak():\n",
    "    f = open('Daftar kontak.txt', 'w')\n",
    "    for x in range(len(nama_kontak)):\n",
    "        f.write('Nama: {} \\nNomor telepon: {} \\n'.format(nama_kontak[x],nomer_kontak[x]))\n",
    "    f.close()\n",
    "    \n",
    "while True:\n",
    "    show_menu()\n",
    "    \n",
    "    menu = int(input(\"\\nPilih menu (hanya angka):\"))\n",
    "    \n",
    "    if menu == 1: \n",
    "        tampilkan_kontak()\n",
    "    elif menu == 2: \n",
    "        tambah_kontak()\n",
    "    elif menu == 3: \n",
    "        print(\"\\nProgram selesai, sampai jumpa!\")\n",
    "        print(\"=================================\")\n",
    "        create_kontak()\n",
    "        break\n",
    "    else: \n",
    "        print (\"Menu tidak tersedia\")"
   ]
  },
  {
   "cell_type": "markdown",
   "metadata": {},
   "source": [
    "# Mencoba module math"
   ]
  },
  {
   "cell_type": "code",
   "execution_count": 8,
   "metadata": {},
   "outputs": [
    {
     "name": "stdout",
     "output_type": "stream",
     "text": [
      " \n",
      "Menu hitungan:\n",
      "1. Sin\n",
      "2. Cos\n",
      "3. Tan\n",
      "4. Keluar\n"
     ]
    },
    {
     "name": "stdin",
     "output_type": "stream",
     "text": [
      "Ayo pilih menu (hanya tulis angka aja ya):\n",
      " 1\n",
      "Masukkan angka:  10\n"
     ]
    },
    {
     "name": "stdout",
     "output_type": "stream",
     "text": [
      "Nilai sin 10 = -0.54\n",
      "===================\n",
      " \n",
      "Menu hitungan:\n",
      "1. Sin\n",
      "2. Cos\n",
      "3. Tan\n",
      "4. Keluar\n"
     ]
    },
    {
     "name": "stdin",
     "output_type": "stream",
     "text": [
      "Ayo pilih menu (hanya tulis angka aja ya):\n",
      " 3\n",
      "Masukkan angka:  1000\n"
     ]
    },
    {
     "name": "stdout",
     "output_type": "stream",
     "text": [
      "Nilai tan 1000 = 1.47\n",
      "===================\n",
      " \n",
      "Menu hitungan:\n",
      "1. Sin\n",
      "2. Cos\n",
      "3. Tan\n",
      "4. Keluar\n"
     ]
    },
    {
     "name": "stdin",
     "output_type": "stream",
     "text": [
      "Ayo pilih menu (hanya tulis angka aja ya):\n",
      " 4\n"
     ]
    },
    {
     "name": "stdout",
     "output_type": "stream",
     "text": [
      "\n",
      "Oke, terima kasih sudah menggunakan kalkulator ini\n"
     ]
    }
   ],
   "source": [
    "import math\n",
    "\n",
    "def show_kalkulator():\n",
    "    print(\"Menu hitungan:\")\n",
    "    print(\"1. Sin\")\n",
    "    print(\"2. Cos\")\n",
    "    print(\"3. Tan\")\n",
    "    print(\"4. Keluar\")\n",
    "\n",
    "while True:\n",
    "    print(\" \")\n",
    "      \n",
    "    show_kalkulator()\n",
    "    \n",
    "    operasi = input(\"Ayo pilih menu (hanya tulis angka aja ya):\\n\") \n",
    "        \n",
    "    if operasi == \"1\":\n",
    "        x = int(input(\"Masukkan angka: \"))\n",
    "        print(\"Nilai sin {} =\".format(x), round(math.sin(x),2))\n",
    "        print(\"===================\")\n",
    "    elif operasi == \"2\":\n",
    "        y = int(input(\"Masukkan angka: \"))\n",
    "        print(\"Nilai cos {} =\".format(y), round(math.cos(y),2))\n",
    "        print(\"===================\")\n",
    "    elif operasi == \"3\":\n",
    "        z = int(input(\"Masukkan angka: \"))\n",
    "        print(\"Nilai tan {} =\".format(z), round(math.tan(z),2))\n",
    "        print(\"===================\")\n",
    "    elif operasi == \"4\":\n",
    "        print(\"\\nOke, terima kasih sudah menggunakan kalkulator ini\")\n",
    "        break\n",
    "    else:\n",
    "        print(\"\\nMaaf pilihan angka tidak ada\")\n",
    "        print(\"===================\")\n",
    "        "
   ]
  },
  {
   "cell_type": "markdown",
   "metadata": {},
   "source": [
    "# Quiz"
   ]
  },
  {
   "cell_type": "code",
   "execution_count": 9,
   "metadata": {},
   "outputs": [
    {
     "name": "stdout",
     "output_type": "stream",
     "text": [
      "Package                       Version            \n",
      "----------------------------- -------------------\n",
      "argon2-cffi                   20.1.0             \n",
      "async-generator               1.10               \n",
      "attrs                         20.2.0             \n",
      "backcall                      0.2.0              \n",
      "backports.functools-lru-cache 1.6.1              \n",
      "bleach                        3.2.1              \n",
      "certifi                       2020.6.20          \n",
      "cffi                          1.14.0             \n",
      "chardet                       3.0.4              \n",
      "colorama                      0.4.4              \n",
      "conda                         4.9.0              \n",
      "conda-package-handling        1.7.0              \n",
      "cryptography                  2.9.2              \n",
      "decorator                     4.4.2              \n",
      "defusedxml                    0.6.0              \n",
      "entrypoints                   0.3                \n",
      "idna                          2.9                \n",
      "importlib-metadata            2.0.0              \n",
      "ipykernel                     5.3.4              \n",
      "ipython                       7.19.0             \n",
      "ipython-genutils              0.2.0              \n",
      "jedi                          0.17.2             \n",
      "Jinja2                        2.11.2             \n",
      "json5                         0.9.5              \n",
      "jsonschema                    3.2.0              \n",
      "jupyter-client                6.1.7              \n",
      "jupyter-core                  4.6.3              \n",
      "jupyterlab                    2.2.9              \n",
      "jupyterlab-pygments           0.1.2              \n",
      "jupyterlab-server             1.2.0              \n",
      "MarkupSafe                    1.1.1              \n",
      "menuinst                      1.4.16             \n",
      "mistune                       0.8.4              \n",
      "myModule                      1.0.0              \n",
      "nbclient                      0.5.1              \n",
      "nbconvert                     6.0.7              \n",
      "nbformat                      5.0.8              \n",
      "nest-asyncio                  1.4.2              \n",
      "notebook                      6.1.4              \n",
      "packaging                     20.4               \n",
      "pandocfilters                 1.4.2              \n",
      "parso                         0.7.1              \n",
      "pickleshare                   0.7.5              \n",
      "pip                           20.0.2             \n",
      "prometheus-client             0.8.0              \n",
      "prompt-toolkit                3.0.8              \n",
      "pycosat                       0.6.3              \n",
      "pycparser                     2.20               \n",
      "Pygments                      2.7.2              \n",
      "pyOpenSSL                     19.1.0             \n",
      "pyparsing                     2.4.7              \n",
      "pyrsistent                    0.17.3             \n",
      "PySocks                       1.7.1              \n",
      "python-dateutil               2.8.1              \n",
      "pywin32                       227                \n",
      "pywinpty                      0.5.7              \n",
      "pyzmq                         19.0.2             \n",
      "requests                      2.23.0             \n",
      "ruamel-yaml                   0.15.87            \n",
      "Send2Trash                    1.5.0              \n",
      "setuptools                    46.4.0.post20200518\n",
      "six                           1.14.0             \n",
      "terminado                     0.9.1              \n",
      "testpath                      0.4.4              \n",
      "tornado                       6.1                \n",
      "tqdm                          4.46.0             \n",
      "traitlets                     5.0.5              \n",
      "urllib3                       1.25.8             \n",
      "wcwidth                       0.2.5              \n",
      "webencodings                  0.5.1              \n",
      "wheel                         0.34.2             \n",
      "win-inet-pton                 1.1.0              \n",
      "wincertstore                  0.2                \n",
      "zipp                          3.4.0              \n"
     ]
    }
   ],
   "source": [
    "!pip list"
   ]
  },
  {
   "cell_type": "code",
   "execution_count": 10,
   "metadata": {},
   "outputs": [
    {
     "name": "stderr",
     "output_type": "stream",
     "text": [
      "ERROR: Could not find a version that satisfies the requirement matematika (from versions: none)\n",
      "ERROR: No matching distribution found for matematika\n"
     ]
    }
   ],
   "source": [
    "!pip install matematika"
   ]
  },
  {
   "cell_type": "code",
   "execution_count": 11,
   "metadata": {},
   "outputs": [
    {
     "name": "stdout",
     "output_type": "stream",
     "text": [
      "Package                       Version            \n",
      "----------------------------- -------------------\n",
      "argon2-cffi                   20.1.0             \n",
      "async-generator               1.10               \n",
      "attrs                         20.2.0             \n",
      "backcall                      0.2.0              \n",
      "backports.functools-lru-cache 1.6.1              \n",
      "bleach                        3.2.1              \n",
      "certifi                       2020.6.20          \n",
      "cffi                          1.14.0             \n",
      "chardet                       3.0.4              \n",
      "colorama                      0.4.4              \n",
      "conda                         4.9.0              \n",
      "conda-package-handling        1.7.0              \n",
      "cryptography                  2.9.2              \n",
      "decorator                     4.4.2              \n",
      "defusedxml                    0.6.0              \n",
      "entrypoints                   0.3                \n",
      "idna                          2.9                \n",
      "importlib-metadata            2.0.0              \n",
      "ipykernel                     5.3.4              \n",
      "ipython                       7.19.0             \n",
      "ipython-genutils              0.2.0              \n",
      "jedi                          0.17.2             \n",
      "Jinja2                        2.11.2             \n",
      "json5                         0.9.5              \n",
      "jsonschema                    3.2.0              \n",
      "jupyter-client                6.1.7              \n",
      "jupyter-core                  4.6.3              \n",
      "jupyterlab                    2.2.9              \n",
      "jupyterlab-pygments           0.1.2              \n",
      "jupyterlab-server             1.2.0              \n",
      "MarkupSafe                    1.1.1              \n",
      "menuinst                      1.4.16             \n",
      "mistune                       0.8.4              \n",
      "myModule                      1.0.0              \n",
      "nbclient                      0.5.1              \n",
      "nbconvert                     6.0.7              \n",
      "nbformat                      5.0.8              \n",
      "nest-asyncio                  1.4.2              \n",
      "notebook                      6.1.4              \n",
      "packaging                     20.4               \n",
      "pandocfilters                 1.4.2              \n",
      "parso                         0.7.1              \n",
      "pickleshare                   0.7.5              \n",
      "pip                           20.0.2             \n",
      "prometheus-client             0.8.0              \n",
      "prompt-toolkit                3.0.8              \n",
      "pycosat                       0.6.3              \n",
      "pycparser                     2.20               \n",
      "Pygments                      2.7.2              \n",
      "pyOpenSSL                     19.1.0             \n",
      "pyparsing                     2.4.7              \n",
      "pyrsistent                    0.17.3             \n",
      "PySocks                       1.7.1              \n",
      "python-dateutil               2.8.1              \n",
      "pywin32                       227                \n",
      "pywinpty                      0.5.7              \n",
      "pyzmq                         19.0.2             \n",
      "requests                      2.23.0             \n",
      "ruamel-yaml                   0.15.87            \n",
      "Send2Trash                    1.5.0              \n",
      "setuptools                    46.4.0.post20200518\n",
      "six                           1.14.0             \n",
      "terminado                     0.9.1              \n",
      "testpath                      0.4.4              \n",
      "tornado                       6.1                \n",
      "tqdm                          4.46.0             \n",
      "traitlets                     5.0.5              \n",
      "urllib3                       1.25.8             \n",
      "wcwidth                       0.2.5              \n",
      "webencodings                  0.5.1              \n",
      "wheel                         0.34.2             \n",
      "win-inet-pton                 1.1.0              \n",
      "wincertstore                  0.2                \n",
      "zipp                          3.4.0              \n"
     ]
    }
   ],
   "source": [
    "!pip list"
   ]
  },
  {
   "cell_type": "code",
   "execution_count": 1,
   "metadata": {},
   "outputs": [
    {
     "name": "stdout",
     "output_type": "stream",
     "text": [
      "PI: 3.142857142857143\n",
      "144\n"
     ]
    }
   ],
   "source": [
    "import matematika\n",
    "print(\"PI:\", matematika.pi)\n",
    "print(matematika.luas_persegi(sisi=12))"
   ]
  },
  {
   "cell_type": "code",
   "execution_count": null,
   "metadata": {},
   "outputs": [],
   "source": []
  }
 ],
 "metadata": {
  "interpreter": {
   "hash": "4369742d5b0c212bbf8e01cdbfe0a84ae7ed8e96ca738b2d045cba992acea23f"
  },
  "kernelspec": {
   "display_name": "Python 3",
   "language": "python",
   "name": "python3"
  },
  "language_info": {
   "codemirror_mode": {
    "name": "ipython",
    "version": 3
   },
   "file_extension": ".py",
   "mimetype": "text/x-python",
   "name": "python",
   "nbconvert_exporter": "python",
   "pygments_lexer": "ipython3",
   "version": "3.8.3"
  }
 },
 "nbformat": 4,
 "nbformat_minor": 4
}
